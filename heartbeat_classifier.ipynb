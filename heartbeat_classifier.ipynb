{
  "nbformat": 4,
  "nbformat_minor": 0,
  "metadata": {
    "colab": {
      "provenance": []
    },
    "kernelspec": {
      "name": "python3",
      "display_name": "Python 3"
    },
    "language_info": {
      "name": "python"
    }
  },
  "cells": [
    {
      "cell_type": "code",
      "execution_count": 29,
      "metadata": {
        "id": "A8MvWflM8UBT"
      },
      "outputs": [],
      "source": [
        "import pandas as pd\n",
        "import numpy as np\n",
        "import csv\n",
        "import tensorflow as tf\n",
        "from decimal import Decimal\n",
        "import matplotlib.image as mpimg\n",
        "import matplotlib.pyplot as plt"
      ]
    },
    {
      "cell_type": "code",
      "source": [
        "data=[]\n",
        "with open('/content/ecg.csv', 'r') as file: #we have sent you the data we used please change the path to the data path on your computer\n",
        "    reader = csv.reader(file)\n",
        "    for row in reader:\n",
        "        data.append(row)\n",
        "data = np.array(data)\n",
        "np.random.shuffle(data)"
      ],
      "metadata": {
        "id": "B7OomFgQ8b_h"
      },
      "execution_count": 30,
      "outputs": []
    },
    {
      "cell_type": "code",
      "source": [
        "splitIndex = int(len(data)*0.9)\n",
        "\n",
        "value = data[ : , :-1].astype(float)\n",
        "label = data[ : , -1].astype(float).astype(int)\n"
      ],
      "metadata": {
        "id": "Xit5T2cc8er9"
      },
      "execution_count": 31,
      "outputs": []
    },
    {
      "cell_type": "code",
      "source": [
        "model = tf.keras.Sequential([\n",
        "    tf.keras.layers.InputLayer((140, )),\n",
        "    tf.keras.layers.Lambda(lambda x : tf.expand_dims(x, axis=-1)),\n",
        "    tf.keras.layers.Conv1D(filters=32, kernel_size=5, activation='relu'),\n",
        "    tf.keras.layers.MaxPool1D(pool_size=2, strides=2),\n",
        "    tf.keras.layers.Bidirectional(tf.keras.layers.LSTM(16)),\n",
        "    tf.keras.layers.Flatten(),\n",
        "    tf.keras.layers.Dense(16, activation='relu'),\n",
        "    tf.keras.layers.Dropout(0.2),\n",
        "    tf.keras.layers.Dense(1, activation='sigmoid')\n",
        "])\n",
        "model.compile(loss=\"binary_crossentropy\", optimizer=\"adam\", metrics=[\"accuracy\"])\n",
        "model.summary()"
      ],
      "metadata": {
        "id": "fPikW0BZ8g6_",
        "colab": {
          "base_uri": "https://localhost:8080/"
        },
        "outputId": "cb0c342b-39dd-4c85-bc71-b4751fe059d3"
      },
      "execution_count": 32,
      "outputs": [
        {
          "output_type": "stream",
          "name": "stdout",
          "text": [
            "Model: \"sequential_5\"\n",
            "_________________________________________________________________\n",
            " Layer (type)                Output Shape              Param #   \n",
            "=================================================================\n",
            " lambda_5 (Lambda)           (None, 140, 1)            0         \n",
            "                                                                 \n",
            " conv1d_5 (Conv1D)           (None, 136, 32)           192       \n",
            "                                                                 \n",
            " max_pooling1d_5 (MaxPooling  (None, 68, 32)           0         \n",
            " 1D)                                                             \n",
            "                                                                 \n",
            " bidirectional_2 (Bidirectio  (None, 32)               6272      \n",
            " nal)                                                            \n",
            "                                                                 \n",
            " flatten_5 (Flatten)         (None, 32)                0         \n",
            "                                                                 \n",
            " dense_10 (Dense)            (None, 16)                528       \n",
            "                                                                 \n",
            " dropout_5 (Dropout)         (None, 16)                0         \n",
            "                                                                 \n",
            " dense_11 (Dense)            (None, 1)                 17        \n",
            "                                                                 \n",
            "=================================================================\n",
            "Total params: 7,009\n",
            "Trainable params: 7,009\n",
            "Non-trainable params: 0\n",
            "_________________________________________________________________\n"
          ]
        }
      ]
    },
    {
      "cell_type": "code",
      "source": [
        "history = model.fit(\n",
        "    value,\n",
        "    label,\n",
        "    epochs=20,\n",
        "    validation_split=0.1,\n",
        "    verbose=2,\n",
        ")"
      ],
      "metadata": {
        "id": "NlNCAISy8i9U",
        "colab": {
          "base_uri": "https://localhost:8080/"
        },
        "outputId": "7b2ddc88-c70f-4bcc-c651-3e6fea3b1a43"
      },
      "execution_count": 27,
      "outputs": [
        {
          "output_type": "stream",
          "name": "stdout",
          "text": [
            "Epoch 1/20\n",
            "141/141 - 2s - loss: 0.0735 - accuracy: 0.9767 - val_loss: 0.1656 - val_accuracy: 0.9660 - 2s/epoch - 15ms/step\n",
            "Epoch 2/20\n",
            "141/141 - 1s - loss: 0.0380 - accuracy: 0.9909 - val_loss: 0.0513 - val_accuracy: 0.9900 - 1s/epoch - 8ms/step\n",
            "Epoch 3/20\n",
            "141/141 - 1s - loss: 0.0303 - accuracy: 0.9920 - val_loss: 0.0277 - val_accuracy: 0.9960 - 1s/epoch - 9ms/step\n",
            "Epoch 4/20\n",
            "141/141 - 1s - loss: 0.0252 - accuracy: 0.9929 - val_loss: 0.0133 - val_accuracy: 0.9960 - 1s/epoch - 10ms/step\n",
            "Epoch 5/20\n",
            "141/141 - 1s - loss: 0.0237 - accuracy: 0.9933 - val_loss: 0.0360 - val_accuracy: 0.9880 - 1s/epoch - 9ms/step\n",
            "Epoch 6/20\n",
            "141/141 - 1s - loss: 0.0182 - accuracy: 0.9953 - val_loss: 0.0077 - val_accuracy: 0.9980 - 1s/epoch - 9ms/step\n",
            "Epoch 7/20\n",
            "141/141 - 1s - loss: 0.0151 - accuracy: 0.9958 - val_loss: 0.0105 - val_accuracy: 0.9940 - 1s/epoch - 9ms/step\n",
            "Epoch 8/20\n",
            "141/141 - 1s - loss: 0.0208 - accuracy: 0.9951 - val_loss: 0.0118 - val_accuracy: 0.9940 - 1s/epoch - 9ms/step\n",
            "Epoch 9/20\n",
            "141/141 - 1s - loss: 0.0184 - accuracy: 0.9947 - val_loss: 0.0151 - val_accuracy: 0.9960 - 1s/epoch - 8ms/step\n",
            "Epoch 10/20\n",
            "141/141 - 1s - loss: 0.0183 - accuracy: 0.9942 - val_loss: 0.0285 - val_accuracy: 0.9940 - 1s/epoch - 8ms/step\n",
            "Epoch 11/20\n",
            "141/141 - 1s - loss: 0.0164 - accuracy: 0.9956 - val_loss: 0.0131 - val_accuracy: 0.9940 - 1s/epoch - 8ms/step\n",
            "Epoch 12/20\n",
            "141/141 - 1s - loss: 0.0154 - accuracy: 0.9956 - val_loss: 0.0200 - val_accuracy: 0.9960 - 1s/epoch - 8ms/step\n",
            "Epoch 13/20\n",
            "141/141 - 1s - loss: 0.0104 - accuracy: 0.9964 - val_loss: 0.0090 - val_accuracy: 0.9960 - 1s/epoch - 8ms/step\n",
            "Epoch 14/20\n",
            "141/141 - 1s - loss: 0.0144 - accuracy: 0.9958 - val_loss: 0.0053 - val_accuracy: 1.0000 - 1s/epoch - 8ms/step\n",
            "Epoch 15/20\n",
            "141/141 - 1s - loss: 0.0118 - accuracy: 0.9967 - val_loss: 0.0028 - val_accuracy: 1.0000 - 1s/epoch - 8ms/step\n",
            "Epoch 16/20\n",
            "141/141 - 1s - loss: 0.0115 - accuracy: 0.9953 - val_loss: 0.0096 - val_accuracy: 0.9980 - 1s/epoch - 8ms/step\n",
            "Epoch 17/20\n",
            "141/141 - 1s - loss: 0.0127 - accuracy: 0.9956 - val_loss: 0.0116 - val_accuracy: 0.9960 - 1s/epoch - 8ms/step\n",
            "Epoch 18/20\n",
            "141/141 - 1s - loss: 0.0140 - accuracy: 0.9967 - val_loss: 0.0114 - val_accuracy: 0.9960 - 1s/epoch - 8ms/step\n",
            "Epoch 19/20\n",
            "141/141 - 1s - loss: 0.0098 - accuracy: 0.9973 - val_loss: 0.0073 - val_accuracy: 0.9980 - 1s/epoch - 7ms/step\n",
            "Epoch 20/20\n",
            "141/141 - 1s - loss: 0.0092 - accuracy: 0.9962 - val_loss: 0.0066 - val_accuracy: 0.9980 - 1s/epoch - 8ms/step\n"
          ]
        }
      ]
    },
    {
      "cell_type": "code",
      "source": [
        "accuracy = history.history[\"accuracy\"]\n",
        "val_accuracy = history.history[\"val_accuracy\"]\n",
        "\n",
        "plt.plot(range(len(history.history[\"accuracy\"])), accuracy, '-')\n",
        "plt.plot(range(len(history.history[\"val_accuracy\"])), val_accuracy, '-')\n",
        "plt.xlabel(\"Epochs\")\n",
        "plt.ylabel(\"Loss\")\n",
        "plt.legend([\"accuracy\",\"val_accuracy\"])\n",
        "plt.figure()"
      ],
      "metadata": {
        "id": "vNcH2fV_8mgO",
        "colab": {
          "base_uri": "https://localhost:8080/",
          "height": 314
        },
        "outputId": "2f635300-15ce-4019-f97f-d1864300184d"
      },
      "execution_count": 28,
      "outputs": [
        {
          "output_type": "execute_result",
          "data": {
            "text/plain": [
              "<Figure size 432x288 with 0 Axes>"
            ]
          },
          "metadata": {},
          "execution_count": 28
        },
        {
          "output_type": "display_data",
          "data": {
            "text/plain": [
              "<Figure size 432x288 with 1 Axes>"
            ],
            "image/png": "[encoded data removed]"
          },
          "metadata": {
            "needs_background": "light"
          }
        },
        {
          "output_type": "display_data",
          "data": {
            "text/plain": [
              "<Figure size 432x288 with 0 Axes>"
            ]
          },
          "metadata": {}
        }
      ]
    },
    {
      "cell_type": "code",
      "source": [],
      "metadata": {
        "id": "8bIw36aE9toV"
      },
      "execution_count": 28,
      "outputs": []
    }
  ]
}